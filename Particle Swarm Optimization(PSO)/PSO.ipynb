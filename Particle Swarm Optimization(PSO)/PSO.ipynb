{
  "nbformat": 4,
  "nbformat_minor": 0,
  "metadata": {
    "colab": {
      "provenance": []
    },
    "kernelspec": {
      "name": "python3",
      "display_name": "Python 3"
    },
    "language_info": {
      "name": "python"
    }
  },
  "cells": [
    {
      "cell_type": "code",
      "execution_count": 1,
      "metadata": {
        "colab": {
          "base_uri": "https://localhost:8080/",
          "height": 541
        },
        "id": "V9RWiNgAvwzk",
        "outputId": "f8522e96-bd73-4ccc-f5aa-cf0121e1a2f4"
      },
      "outputs": [
        {
          "output_type": "stream",
          "name": "stdout",
          "text": [
            "FINAL:\n",
            "Best position (formatted): ['-0.00004', '0.00011']\n",
            "Best error (formatted): 0.00000\n"
          ]
        },
        {
          "output_type": "display_data",
          "data": {
            "text/plain": [
              "<Figure size 640x480 with 1 Axes>"
            ],
            "image/png": "[encoded data removed]"
          },
          "metadata": {}
        },
        {
          "output_type": "execute_result",
          "data": {
            "text/plain": [
              "<__main__.PSO at 0x784995ea8040>"
            ]
          },
          "metadata": {},
          "execution_count": 1
        }
      ],
      "source": [
        "#--- IMPORT DEPENDENCIES ------------------------------------------------------+\n",
        "\n",
        "from __future__ import division\n",
        "import random\n",
        "import math\n",
        "import matplotlib.pyplot as plt\n",
        "\n",
        "#--- COST FUNCTION ------------------------------------------------------------+\n",
        "\n",
        "# function we are attempting to optimize (minimize)\n",
        "def func1(x):\n",
        "    total = 0\n",
        "    for i in range(len(x)):\n",
        "        total += x[i] ** 2\n",
        "    return total\n",
        "\n",
        "#--- MAIN ---------------------------------------------------------------------+\n",
        "\n",
        "class Particle:\n",
        "    def __init__(self, x0):\n",
        "        self.position_i = []  # particle position\n",
        "        self.velocity_i = []  # particle velocity\n",
        "        self.pos_best_i = []  # best position individual\n",
        "        self.err_best_i = -1  # best error individual\n",
        "        self.err_i = -1  # error individual\n",
        "\n",
        "        for i in range(0, num_dimensions):\n",
        "            self.velocity_i.append(random.uniform(-1, 1))\n",
        "            self.position_i.append(x0[i])\n",
        "\n",
        "    # evaluate current fitness\n",
        "    def evaluate(self, costFunc):\n",
        "        self.err_i = costFunc(self.position_i)\n",
        "\n",
        "        # check to see if the current position is an individual best\n",
        "        if self.err_i < self.err_best_i or self.err_best_i == -1:\n",
        "            self.pos_best_i = list(self.position_i)\n",
        "            self.err_best_i = self.err_i\n",
        "\n",
        "    # update new particle velocity\n",
        "    def update_velocity(self, pos_best_g):\n",
        "        w = 0.5  # constant inertia weight (how much to weigh the previous velocity)\n",
        "        c1 = 1  # cognitive constant\n",
        "        c2 = 2  # social constant\n",
        "\n",
        "        for i in range(0, num_dimensions):\n",
        "            r1 = random.random()\n",
        "            r2 = random.random()\n",
        "\n",
        "            vel_cognitive = c1 * r1 * (self.pos_best_i[i] - self.position_i[i])\n",
        "            vel_social = c2 * r2 * (pos_best_g[i] - self.position_i[i])\n",
        "            self.velocity_i[i] = w * self.velocity_i[i] + vel_cognitive + vel_social\n",
        "\n",
        "    # update the particle position based off new velocity updates\n",
        "    def update_position(self, bounds):\n",
        "        for i in range(0, num_dimensions):\n",
        "            self.position_i[i] = self.position_i[i] + self.velocity_i[i]\n",
        "\n",
        "            # adjust maximum position if necessary\n",
        "            if self.position_i[i] > bounds[i][1]:\n",
        "                self.position_i[i] = bounds[i][1]\n",
        "\n",
        "            # adjust minimum position if necessary\n",
        "            if self.position_i[i] < bounds[i][0]:\n",
        "                self.position_i[i] = bounds[i][0]\n",
        "\n",
        "\n",
        "class PSO():\n",
        "    def __init__(self, costFunc, x0, bounds, num_particles, maxiter):\n",
        "        global num_dimensions\n",
        "\n",
        "        num_dimensions = len(x0)\n",
        "        err_best_g = -1  # best error for group\n",
        "        pos_best_g = []  # best position for group\n",
        "        convergence_curve = []  # To store the error values over iterations\n",
        "\n",
        "        # establish the swarm\n",
        "        swarm = []\n",
        "        for i in range(0, num_particles):\n",
        "            swarm.append(Particle(x0))\n",
        "\n",
        "        # begin optimization loop\n",
        "        i = 0\n",
        "        while i < maxiter:\n",
        "            # cycle through particles in swarm and evaluate fitness\n",
        "            for j in range(0, num_particles):\n",
        "                swarm[j].evaluate(costFunc)\n",
        "\n",
        "                # determine if current particle is the best (globally)\n",
        "                if swarm[j].err_i < err_best_g or err_best_g == -1:\n",
        "                    pos_best_g = list(swarm[j].position_i)\n",
        "                    err_best_g = float(swarm[j].err_i)\n",
        "\n",
        "            # cycle through swarm and update velocities and positions\n",
        "            for j in range(0, num_particles):\n",
        "                swarm[j].update_velocity(pos_best_g)\n",
        "                swarm[j].update_position(bounds)\n",
        "\n",
        "            # Record the best error at each iteration for the convergence curve\n",
        "            convergence_curve.append(err_best_g)\n",
        "            i += 1\n",
        "\n",
        "        # print final results\n",
        "        print(\"FINAL:\")\n",
        "        # Assuming pos_best_g is a list of values\n",
        "        formatted_pos_best_g = [\"{:.5f}\".format(value) for value in pos_best_g]\n",
        "        print(\"Best position (formatted):\", formatted_pos_best_g)\n",
        "        print(\"Best error (formatted): {:.5f}\".format(err_best_g))\n",
        "\n",
        "        # Plotting the convergence curve\n",
        "        plt.figure()\n",
        "        plt.plot(convergence_curve)\n",
        "        plt.title('Convergence Curve')\n",
        "        plt.xlabel('Iterations')\n",
        "        plt.ylabel('Best Error')\n",
        "        plt.grid(True)\n",
        "        plt.show()\n",
        "\n",
        "#--- RUN ----------------------------------------------------------------------+\n",
        "\n",
        "initial = [5, 5]                                # initial starting location [x1,x2...]\n",
        "bounds = [(-10, 10), (-10, 10)]     # input bounds [(x1_min,x1_max),(x2_min,x2_max)...]\n",
        "PSO(func1, initial, bounds, num_particles=15, maxiter=50)"
      ]
    }
  ]
}